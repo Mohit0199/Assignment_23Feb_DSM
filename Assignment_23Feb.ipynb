{
 "cells": [
  {
   "cell_type": "code",
   "execution_count": 1,
   "id": "90fa8b78-3749-4b0b-a844-33ecc90160f4",
   "metadata": {},
   "outputs": [],
   "source": [
    "import pandas as pd"
   ]
  },
  {
   "cell_type": "code",
   "execution_count": 4,
   "id": "f4cdc7c3-cff5-439d-b482-b29a1b2d66c0",
   "metadata": {},
   "outputs": [
    {
     "name": "stdout",
     "output_type": "stream",
     "text": [
      "0     4\n",
      "1     8\n",
      "2    15\n",
      "3    16\n",
      "4    23\n",
      "5    42\n",
      "dtype: int64\n"
     ]
    }
   ],
   "source": [
    "# Q1. Create a Pandas Series that contains the following data: 4, 8, 15, 16, 23, and 42. Then, print the series.\n",
    "\n",
    "s = pd.Series([4, 8, 15, 16, 23, 42])\n",
    "print(s)"
   ]
  },
  {
   "cell_type": "code",
   "execution_count": 5,
   "id": "b04c406e-4f64-4338-9df4-1907be088095",
   "metadata": {},
   "outputs": [
    {
     "name": "stdout",
     "output_type": "stream",
     "text": [
      "0     2\n",
      "1    34\n",
      "2    23\n",
      "3    11\n",
      "4    10\n",
      "5     9\n",
      "6     4\n",
      "7     5\n",
      "8     6\n",
      "9     7\n",
      "dtype: int64\n"
     ]
    }
   ],
   "source": [
    "# Q2. Create a variable of list type containing 10 elements in it, and apply pandas.Series function on the \n",
    "# variable print it.\n",
    "\n",
    "l = [2,34, 23, 11, 10, 9, 4, 5, 6, 7]\n",
    "s = pd.Series(l)\n",
    "print(s)"
   ]
  },
  {
   "cell_type": "code",
   "execution_count": 6,
   "id": "0577d0ac-4455-4f2e-bee1-676a4c4ba63d",
   "metadata": {},
   "outputs": [
    {
     "name": "stdout",
     "output_type": "stream",
     "text": [
      "     Name  Age  Gender\n",
      "0   Alice   25  Female\n",
      "1     Bob   30    Male\n",
      "2  Claire   27  Female\n"
     ]
    }
   ],
   "source": [
    "# Q3. Create a Pandas DataFrame that contains the following data Then, print the DataFrame\n",
    "\n",
    "d = {\n",
    "    'Name' : ['Alice', 'Bob', 'Claire'],\n",
    "    'Age' : [25, 30, 27],\n",
    "    'Gender' : ['Female', 'Male', 'Female']\n",
    "}\n",
    "\n",
    "df = pd.DataFrame(d)\n",
    "print(df)"
   ]
  },
  {
   "cell_type": "code",
   "execution_count": 8,
   "id": "dc9db6d4-7a0a-4de6-bb72-dd9bc0d46d0c",
   "metadata": {},
   "outputs": [
    {
     "name": "stdout",
     "output_type": "stream",
     "text": [
      "0    10\n",
      "1    20\n",
      "2    30\n",
      "3    40\n",
      "4    50\n",
      "dtype: int64\n",
      "     Name  Age  Gender\n",
      "0   Alice   25  Female\n",
      "1     Bob   30    Male\n",
      "2  Claire   27  Female\n"
     ]
    }
   ],
   "source": [
    "# Q4. What is ‘DataFrame’ in pandas and how is it different from pandas.series? Explain with an example\n",
    "\n",
    "\n",
    "## A DataFrame in pandas is a two-dimensional, size-mutable, and potentially heterogeneous tabular\n",
    "## data structure with labeled axes (rows and columns). \n",
    "## Each column in a DataFrame can have a different data type (e.g., integers, floats, strings).\n",
    "\n",
    "## On the other hand, a Series in pandas is a one-dimensional labeled array capable of holding\n",
    "## any data type (integer, string, float, python objects, etc.). It is similar to a column in a table.\n",
    "\n",
    "s = pd.Series([10, 20, 30, 40, 50])\n",
    "print(s)\n",
    "## here s is Series\n",
    "\n",
    "d = {\n",
    "    'Name' : ['Alice', 'Bob', 'Claire'],\n",
    "    'Age' : [25, 30, 27],\n",
    "    'Gender' : ['Female', 'Male', 'Female']\n",
    "}\n",
    "\n",
    "df = pd.DataFrame(d)\n",
    "print(df)\n",
    "## here df is a dataframe"
   ]
  },
  {
   "cell_type": "code",
   "execution_count": 9,
   "id": "53ad2be3-2c78-4211-94b8-8a249808e810",
   "metadata": {},
   "outputs": [
    {
     "data": {
      "text/html": [
       "<div>\n",
       "<style scoped>\n",
       "    .dataframe tbody tr th:only-of-type {\n",
       "        vertical-align: middle;\n",
       "    }\n",
       "\n",
       "    .dataframe tbody tr th {\n",
       "        vertical-align: top;\n",
       "    }\n",
       "\n",
       "    .dataframe thead th {\n",
       "        text-align: right;\n",
       "    }\n",
       "</style>\n",
       "<table border=\"1\" class=\"dataframe\">\n",
       "  <thead>\n",
       "    <tr style=\"text-align: right;\">\n",
       "      <th></th>\n",
       "      <th>Name</th>\n",
       "      <th>Age</th>\n",
       "      <th>Gender</th>\n",
       "    </tr>\n",
       "  </thead>\n",
       "  <tbody>\n",
       "    <tr>\n",
       "      <th>0</th>\n",
       "      <td>Alice</td>\n",
       "      <td>25</td>\n",
       "      <td>Female</td>\n",
       "    </tr>\n",
       "    <tr>\n",
       "      <th>1</th>\n",
       "      <td>Bob</td>\n",
       "      <td>30</td>\n",
       "      <td>Male</td>\n",
       "    </tr>\n",
       "  </tbody>\n",
       "</table>\n",
       "</div>"
      ],
      "text/plain": [
       "    Name  Age  Gender\n",
       "0  Alice   25  Female\n",
       "1    Bob   30    Male"
      ]
     },
     "execution_count": 9,
     "metadata": {},
     "output_type": "execute_result"
    }
   ],
   "source": [
    "# Q5. What are some common functions you can use to manipulate data in a Pandas DataFrame? Can \n",
    "# you give an example of when you might use one of these functions?\n",
    "\n",
    "#  Here are some common functions\n",
    "# df.head(), df.tail(), df.columns(), df.dropna(), df.drop(), df.fillna(), df.drop_duplicates\n",
    "\n",
    "# to see first n numbers of rows we can use df.head()\n",
    "df.head(2)"
   ]
  },
  {
   "cell_type": "code",
   "execution_count": 10,
   "id": "5d51915b-0f19-4dad-b293-25ddc9dc7a3e",
   "metadata": {},
   "outputs": [],
   "source": [
    "# Q6. Which of the following is mutable in nature Series, DataFrame, Panel?\n",
    "\n",
    "## In pandas, both Series and DataFrame are mutable in nature"
   ]
  },
  {
   "cell_type": "code",
   "execution_count": 11,
   "id": "aad07282-31fa-4465-84c3-472fccfaf50a",
   "metadata": {},
   "outputs": [
    {
     "name": "stdout",
     "output_type": "stream",
     "text": [
      "      Name  Age         City\n",
      "0    Alice   24     New York\n",
      "1      Bob   27  Los Angeles\n",
      "2  Charlie   22      Chicago\n"
     ]
    }
   ],
   "source": [
    "# Q7. Create a DataFrame using multiple Series. Explain with an example.\n",
    "\n",
    "\n",
    "names = pd.Series(['Alice', 'Bob', 'Charlie'], index=[0, 1, 2])\n",
    "ages = pd.Series([24, 27, 22], index=[0, 1, 2])\n",
    "cities = pd.Series(['New York', 'Los Angeles', 'Chicago'], index=[0, 1, 2])\n",
    "\n",
    "# Creating DataFrame\n",
    "data = {\n",
    "    'Name': names,\n",
    "    'Age': ages,\n",
    "    'City': cities\n",
    "}\n",
    "df = pd.DataFrame(data)\n",
    "print(df)\n",
    "\n",
    "## Creating Series: Each Series (names, ages, cities) contains data for a specific column.\n",
    "## Combining Series: We pass a dictionary to pd.DataFrame(), where keys are column names, \n",
    "## and values are the Series. Pandas aligns the data by index, so each Series should have the same length."
   ]
  },
  {
   "cell_type": "code",
   "execution_count": null,
   "id": "907c037c-1486-4bf2-b6ae-813ac69149f1",
   "metadata": {},
   "outputs": [],
   "source": []
  }
 ],
 "metadata": {
  "kernelspec": {
   "display_name": "Python 3 (ipykernel)",
   "language": "python",
   "name": "python3"
  },
  "language_info": {
   "codemirror_mode": {
    "name": "ipython",
    "version": 3
   },
   "file_extension": ".py",
   "mimetype": "text/x-python",
   "name": "python",
   "nbconvert_exporter": "python",
   "pygments_lexer": "ipython3",
   "version": "3.10.8"
  }
 },
 "nbformat": 4,
 "nbformat_minor": 5
}
